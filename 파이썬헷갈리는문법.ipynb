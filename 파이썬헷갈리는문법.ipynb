{
  "nbformat": 4,
  "nbformat_minor": 0,
  "metadata": {
    "colab": {
      "name": "파이썬헷갈리는문법.ipynb",
      "provenance": [],
      "collapsed_sections": [],
      "authorship_tag": "ABX9TyOobIz+GjLy1H1X847rhhOl",
      "include_colab_link": true
    },
    "kernelspec": {
      "name": "python3",
      "display_name": "Python 3"
    },
    "language_info": {
      "name": "python"
    }
  },
  "cells": [
    {
      "cell_type": "markdown",
      "metadata": {
        "id": "view-in-github",
        "colab_type": "text"
      },
      "source": [
        "<a href=\"https://colab.research.google.com/github/qpwisu/algorithm/blob/master/%ED%8C%8C%EC%9D%B4%EC%8D%AC%ED%97%B7%EA%B0%88%EB%A6%AC%EB%8A%94%EB%AC%B8%EB%B2%95.ipynb\" target=\"_parent\"><img src=\"https://colab.research.google.com/assets/colab-badge.svg\" alt=\"Open In Colab\"/></a>"
      ]
    },
    {
      "cell_type": "markdown",
      "metadata": {
        "id": "tntiG7HSgfDq"
      },
      "source": [
        "1.람다식 정리 \n",
        "\n",
        "lambda는 함수를 한줄로 만들어준다 \n",
        "\n",
        "반환값 =lambda 입력값:반환값(수식)"
      ]
    },
    {
      "cell_type": "code",
      "metadata": {
        "colab": {
          "base_uri": "https://localhost:8080/"
        },
        "id": "oEM7APiqgNFH",
        "outputId": "8ec0b7d5-5cdd-4858-d3f7-cad49ef82f1f"
      },
      "source": [
        "def hap(x, y):\n",
        "  return x + y \n",
        "hap(10, 20) "
      ],
      "execution_count": null,
      "outputs": [
        {
          "output_type": "execute_result",
          "data": {
            "text/plain": [
              "30"
            ]
          },
          "metadata": {},
          "execution_count": 1
        }
      ]
    },
    {
      "cell_type": "code",
      "metadata": {
        "colab": {
          "base_uri": "https://localhost:8080/"
        },
        "id": "AFHGunKkgyii",
        "outputId": "668f52a7-8ab7-4ff4-827d-9c7140876354"
      },
      "source": [
        "hap = lambda x,y:x+y\n",
        "print(hap(10,20))"
      ],
      "execution_count": null,
      "outputs": [
        {
          "output_type": "stream",
          "name": "stdout",
          "text": [
            "200\n"
          ]
        }
      ]
    },
    {
      "cell_type": "markdown",
      "metadata": {
        "id": "Vh9Bqh6CoUU-"
      },
      "source": [
        "람다에서 if문을 쓸떄 \n",
        "\n",
        "lambda 입력값:(if반환값) if 조건식 else (else반환값)\n",
        "\n",
        "람다에 : 오른쪽에는 반환값이 들어가야 하기때문 if의 반환값이 앞으로 온다 \n",
        "\n",
        "람다에서는 \n",
        "else if를 이용할수없다 그래서 else절에 (if else)를 넣어서 사용해야한다\n"
      ]
    },
    {
      "cell_type": "code",
      "metadata": {
        "colab": {
          "base_uri": "https://localhost:8080/"
        },
        "id": "gzRa32vMnwV8",
        "outputId": "d79a6cc2-0ccf-4857-88fd-e11aa48b5cda"
      },
      "source": [
        "# 람다에 if 문 쓰기 \n",
        "def hap(x, y):\n",
        "  if x>y:\n",
        "    return x\n",
        "  else: \n",
        "    return y\n",
        "print(hap(10, 20) )\n",
        "\n",
        "a= lambda x,y:x if x>y else y\n",
        "print(a(10,20))\n",
        "\n",
        "# 람다에 if 문 쓰기 \n",
        "def hap(x, y):\n",
        "  if x>y:\n",
        "    return x\n",
        "  elif x==y: \n",
        "    return 0\n",
        "  else:\n",
        "    return y\n",
        "print(hap(10, 20) )\n",
        "#else if 사용 \n",
        "b= lambda x,y:x if x>y else (0 if x==y else y)\n",
        "print(b(20,20))\n",
        "\n"
      ],
      "execution_count": null,
      "outputs": [
        {
          "output_type": "stream",
          "name": "stdout",
          "text": [
            "20\n",
            "20\n",
            "20\n",
            "0\n"
          ]
        }
      ]
    },
    {
      "cell_type": "markdown",
      "metadata": {
        "id": "eJq85vB5hrMp"
      },
      "source": [
        "2.map 정리 \n",
        "list(map(함수,입력값))\n",
        "map은 리스트의 요소들을 지정된 함수로 처리해주는 함수이다 \n",
        "\n",
        "map을 쓰고 list로 감싸줘야한다 \n",
        "\n",
        "함수에 lambda 많이 이용 \n",
        "\n"
      ]
    },
    {
      "cell_type": "code",
      "metadata": {
        "colab": {
          "base_uri": "https://localhost:8080/"
        },
        "id": "_vmWxeRhhqU1",
        "outputId": "9458f202-93ce-40a1-961d-140c0dde500b"
      },
      "source": [
        "# 함수대신 int를 넣어서 for문 필요없이 list를 한번에 형변환\n",
        "a = [1.2, 2.5, 3.7, 4.6]\n",
        "a = list(map(int, a))\n",
        "a"
      ],
      "execution_count": null,
      "outputs": [
        {
          "output_type": "execute_result",
          "data": {
            "text/plain": [
              "[1, 2, 3, 4]"
            ]
          },
          "metadata": {},
          "execution_count": 4
        }
      ]
    },
    {
      "cell_type": "code",
      "metadata": {
        "colab": {
          "base_uri": "https://localhost:8080/"
        },
        "id": "OvrApJN1iaCh",
        "outputId": "b272fda0-6ef8-4354-9088-a4b4bedf7087"
      },
      "source": [
        "a= [1,3,5,7]\n",
        "def c(a):\n",
        "  return a*3\n",
        "d=list(map(c,a))\n",
        "print(d)\n",
        "\n",
        "e= list(map(lambda x:x*3,a))\n",
        "print(e)\n",
        "\n",
        "\n"
      ],
      "execution_count": null,
      "outputs": [
        {
          "output_type": "stream",
          "name": "stdout",
          "text": [
            "[3, 9, 15, 21]\n",
            "[3, 9, 15, 21]\n"
          ]
        }
      ]
    },
    {
      "cell_type": "markdown",
      "metadata": {
        "id": "L6GoPkbzklpw"
      },
      "source": [
        "filter 함수 \n",
        "\n",
        "함수로 특정 조건에 걸러진 값을 리턴 \n",
        "\n",
        "list(filter(함수,입력값)) \n",
        "\n",
        "map과 다르게 함수에서 결과값이 True인지 False인지에 따라 해당요소를 거를지 결정 \n",
        "\n",
        "함수에 람다 많이 이용 \n"
      ]
    },
    {
      "cell_type": "code",
      "metadata": {
        "colab": {
          "base_uri": "https://localhost:8080/"
        },
        "id": "0D_tJTdYlG1R",
        "outputId": "4ef1dc52-2915-4486-90a2-b7823275f62d"
      },
      "source": [
        "target = [1, 2, 3, 4, 5, 6, 7, 8, 9, 10]\n",
        "\n",
        "def is_even(n):\n",
        "    return True if n % 2 == 0 else False\n",
        "\n",
        "result = filter(is_even, target)\n",
        "\n",
        "print(list(result))\n",
        "\n",
        "a= list(filter(lambda x:x%2==0,target))\n",
        "print(a)\n",
        "\n",
        "b= list(filter(lambda x:True if x%2==0 else False ,target))\n",
        "print(b)"
      ],
      "execution_count": null,
      "outputs": [
        {
          "output_type": "stream",
          "name": "stdout",
          "text": [
            "[2, 4, 6, 8, 10]\n",
            "[2, 4, 6, 8, 10]\n",
            "[2, 4, 6, 8, 10]\n"
          ]
        }
      ]
    },
    {
      "cell_type": "code",
      "metadata": {
        "id": "9Fz6bgWkvv_9"
      },
      "source": [
        ""
      ],
      "execution_count": null,
      "outputs": []
    },
    {
      "cell_type": "markdown",
      "metadata": {
        "id": "dNIADZXge0Im"
      },
      "source": [
        "정규표현식\n",
        "\n",
        "import re \n",
        "\n",
        "줄바꿈 문자를 제외한 모든 문자와 매치된다\n",
        "\n",
        "정규표현식에 []는 * or + 같은 반복이 아니면 한 글자를 의미한다\n",
        "\n",
        "[a-zA-Z] : 알파벳 모두\n",
        "\n",
        "[0-9] : 숫자\n",
        "\n",
        "^을 []안에 쓰면 그 정규식을 제외한 것들을 의미하고 \n",
        "[^axa]\n",
        "\n",
        "^을 []밖에쓰면 문자열 맨 앞에 있는 것을의미\n",
        "반대는 $\n",
        "^aa\n",
        "aa$\n",
        "\n",
        "\\d - 숫자와 매치, [0-9]와 동일한 표현식이다\n",
        "\n",
        "\\D - 숫자가 아닌 것과 매치, [^0-9]와 동일한 \n",
        "표현식이다.\n",
        "\n",
        "\\s - whitespace 문자와 매치, [ \\t\\n\\r\\f\\v]와 동일한 표현식이다. 맨 앞의 빈 칸은 공백문자(space)를 의미한다.\n",
        "\n",
        "\\S - whitespace 문자가 아닌 것과 매치, [^ \\t\\n\\r\\f\\v]와 동일한 표현식이다.\n",
        "\n",
        "\\w - 문자+숫자(alphanumeric)와 매치, [a-zA-Z0-9_]와 동일한 표현식이다.\n",
        "\n",
        "\\W - 문자+숫자(alphanumeric)가 아닌 문자와 매치, [^a-zA-Z0-9_]와 동일한 표현식이다.\n",
        "\n",
        "정규 표현식의 Dot(.) 메타 문자는 줄바꿈 문자인 \\n을 제외한 모든 문자와 매치됨을 의미한다.\n",
        "a.b = \"a + 모든문자 + b\"\n",
        "\n",
        "a[.]b =a.b\n",
        "\n",
        "ca+t 반복 한번 이상\n",
        "\n",
        "ca*t 반복 0번 이상\n",
        "\n",
        "ca{2}t a가 두번반복 \n",
        "\n",
        "ca{2,5}t a가 두번에서 5번 반복 \n",
        "\n",
        "ab?c b가 있거나 없어도 된다는 뜻 "
      ]
    },
    {
      "cell_type": "markdown",
      "metadata": {
        "id": "TXracHabgVD_"
      },
      "source": [
        "match()\t문자열의 처음부터 정규식과 매치되는지 조사한다.\n",
        "\n",
        "search()\t문자열 전체를 검색하여 정규식과 매치되는지 조사한다.\n",
        "\n",
        "findall()\t정규식과 매치되는 모든 문자열(substring)을 리스트로 돌려준다.\n",
        "\n",
        "finditer()\t정규식과 매치되는 모든 문자열(substring)을 반복 가능한 객체로 돌려준다.\n",
        "\n",
        "sub() 문자열을 치환해준다 \n",
        "\n",
        "match,search 객체의 메서드\n",
        "\n",
        "group()\t매치된 문자열을 돌려준다.\n",
        "\n",
        "start()\t매치된 문자열의 시작 위치를 돌려준다.\n",
        "\n",
        "end()\t매치된 문자열의 끝 위치를 돌려준다.\n",
        "\n",
        "span()\t매치된 문자열의 (시작, 끝)에 해당하는 튜플을 돌려준다."
      ]
    },
    {
      "cell_type": "code",
      "metadata": {
        "colab": {
          "base_uri": "https://localhost:8080/"
        },
        "id": "LaXW6T4mezAm",
        "outputId": "a044049c-f543-4d08-a968-eb22aa7b7fc2"
      },
      "source": [
        "# mathch\n",
        "import re \n",
        "p = re.compile('ab*')\n",
        "m = p.match(\"abbb\")\n",
        "print(m)\n",
        "print(m.group())\n",
        "print(m.start())\n",
        "print(m.end())\n",
        "print(m.span())"
      ],
      "execution_count": 21,
      "outputs": [
        {
          "output_type": "stream",
          "name": "stdout",
          "text": [
            "<re.Match object; span=(0, 4), match='abbb'>\n",
            "abbb\n",
            "0\n",
            "4\n",
            "(0, 4)\n"
          ]
        }
      ]
    },
    {
      "cell_type": "code",
      "metadata": {
        "colab": {
          "base_uri": "https://localhost:8080/"
        },
        "id": "D7a_2Hy-hlJg",
        "outputId": "5aea3517-2da0-428a-db04-f690d33ade35"
      },
      "source": [
        "p = re.compile('python')\n",
        "m = p.search(\"3 python\")\n",
        "print(m)"
      ],
      "execution_count": 18,
      "outputs": [
        {
          "output_type": "stream",
          "name": "stdout",
          "text": [
            "<re.Match object; span=(2, 8), match='python'>\n"
          ]
        }
      ]
    },
    {
      "cell_type": "code",
      "metadata": {
        "colab": {
          "base_uri": "https://localhost:8080/"
        },
        "id": "c1XpjKj0hYDH",
        "outputId": "c099ab8d-1d46-48db-ad25-9a9db2400229"
      },
      "source": [
        "p = re.compile('[a-z]+')\n",
        "result = p.findall(\"life is too short\")\n",
        "print(result)\n"
      ],
      "execution_count": 19,
      "outputs": [
        {
          "output_type": "stream",
          "name": "stdout",
          "text": [
            "['life', 'is', 'too', 'short']\n"
          ]
        }
      ]
    },
    {
      "cell_type": "code",
      "metadata": {
        "colab": {
          "base_uri": "https://localhost:8080/"
        },
        "id": "2e0bO4sbidF_",
        "outputId": "98f9bd44-9c6e-4c12-99f4-3d9eda40329a"
      },
      "source": [
        "result = p.finditer(\"life is too short\")\n",
        "print(result)\n",
        "\n",
        "for r in result: print(r)"
      ],
      "execution_count": 20,
      "outputs": [
        {
          "output_type": "stream",
          "name": "stdout",
          "text": [
            "<callable_iterator object at 0x7fef985cf8d0>\n",
            "<re.Match object; span=(0, 4), match='life'>\n",
            "<re.Match object; span=(5, 7), match='is'>\n",
            "<re.Match object; span=(8, 11), match='too'>\n",
            "<re.Match object; span=(12, 17), match='short'>\n"
          ]
        }
      ]
    },
    {
      "cell_type": "markdown",
      "metadata": {
        "id": "kYuAroe1jDVX"
      },
      "source": [
        "모듈 단위로 compile안하고 작업 수행하기 "
      ]
    },
    {
      "cell_type": "code",
      "metadata": {
        "id": "xZCMcEhjjIF3"
      },
      "source": [
        "p = re.compile('[a-z]+')\n",
        "m = p.match(\"python\")\n",
        "# 위와 아래는 같다 \n",
        "m = re.match('[a-z]+', \"python\")"
      ],
      "execution_count": null,
      "outputs": []
    },
    {
      "cell_type": "markdown",
      "metadata": {
        "id": "8uwytQoTjWhv"
      },
      "source": [
        "컴파일 옵션 // 괄호안이 약어 (re.S)\n",
        "\n",
        "DOTALL(S) - . 이 줄바꿈 문자를 포함하여 모든 문자와 매치할 수 있도록 한다.\n",
        "\n",
        "IGNORECASE(I) - 대소문자에 관계없이 매치할 수 있도록 한다.\n",
        "\n",
        "MULTILINE(M) - 여러줄과 매치할 수 있도록 한다. (^, $ 메타문자의 사용과 관계가 있는 옵션이다)\n",
        "\n",
        "VERBOSE(X) - verbose 모드를 사용할 수 있도록 한다. (정규식을 보기 편하게 만들수 있고 주석등을 사용할 수 있게된다.)\n",
        "\n"
      ]
    },
    {
      "cell_type": "code",
      "metadata": {
        "id": "KukDzdlKkAbw"
      },
      "source": [
        "import re\n",
        "p = re.compile('a.b', re.DOTALL) #or re.compile('a.b', re.S)\n",
        "m = p.match('a\\nb')\n",
        "print(m)"
      ],
      "execution_count": null,
      "outputs": []
    },
    {
      "cell_type": "code",
      "metadata": {
        "id": "INYKW6xakPA3"
      },
      "source": [
        "p = re.compile('[a-z]', re.I)\n"
      ],
      "execution_count": null,
      "outputs": []
    },
    {
      "cell_type": "markdown",
      "metadata": {
        "id": "EkhZ5L7lkjd_"
      },
      "source": [
        "re.MULTILINE \n",
        "\n",
        "메타 문자에 대해 간단히 설명하자면 ^는 문자열의 처음을 의미하고, $는 문자열의 마지막을 의미한다. \n",
        "\n",
        "예를 들어 정규식이 ^python인 경우 문자열의 처음은 항상 python으로 시작해야 매치되고, \n",
        "\n",
        "\n",
        "만약 정규식이 python$이라면 문자열의 마지막은 항상 python으로 끝나야 매치된다는 의미이다."
      ]
    },
    {
      "cell_type": "code",
      "metadata": {
        "colab": {
          "base_uri": "https://localhost:8080/"
        },
        "id": "uLevtacUkwJW",
        "outputId": "77cadb3a-f784-4b25-9dab-ea4633de0e22"
      },
      "source": [
        "import re\n",
        "p = re.compile(\"^python\\s\\w+\") #파이썬뒤에 빈칸그리고 문자가 와야한단 의미\n",
        "\n",
        "data = \"\"\"python one\n",
        "life is too short\n",
        "python two\n",
        "you need python\n",
        "python three\"\"\"\n",
        "\n",
        "print(p.findall(data))\n",
        "\n",
        "import re\n",
        "p = re.compile(\"^python\\s\\w+\", re.MULTILINE) #각줄에 처음\n",
        "\n",
        "data = \"\"\"python one\n",
        "life is too short\n",
        "python two\n",
        "you need python\n",
        "python three\"\"\"\n",
        "\n",
        "print(p.findall(data))"
      ],
      "execution_count": 22,
      "outputs": [
        {
          "output_type": "stream",
          "name": "stdout",
          "text": [
            "['python one']\n"
          ]
        }
      ]
    },
    {
      "cell_type": "markdown",
      "metadata": {
        "id": "jnJnNQHKldO3"
      },
      "source": [
        "정규식에서 메타문자(특수문자)들은 앞에\\를 붙혀줘서 표현한다\n"
      ]
    },
    {
      "cell_type": "markdown",
      "metadata": {
        "id": "Y8aQJurimn5v"
      },
      "source": [
        "정규 표현식 문자열 치환\n",
        "\n",
        "re.sub（정규 표현식, 대상 문자열 , 치환 문자）\n",
        "\n",
        "정규 표현식 - 검색 패턴을 지정\n",
        "대상 문자열 - 검색 대상이 되는 문자열\n",
        "치환 문자 - 변경하고 싶은 문자\n",
        "\n"
      ]
    },
    {
      "cell_type": "code",
      "metadata": {
        "colab": {
          "base_uri": "https://localhost:8080/"
        },
        "id": "4gBdCFtBmnKA",
        "outputId": "2b60521b-6f84-4638-ff47-eb3aef6b9c86"
      },
      "source": [
        "import re\n",
        "\n",
        "text = \"\"\"\\\n",
        "010-1234-5678 Kim\n",
        "011-1234-5678 Lee\n",
        "016-1234-5678 Han\n",
        "\"\"\"\n",
        "# 정규 표현식 사용 치환\n",
        "text_mod = re.sub('^[0-9]{3}-[0-9]{4}-[0-9]{4}',\"***-****-****\",text) \n",
        "print (text_mod)\n",
        "#^떄문에 앞에꺼만 치환 다해주고싶ㅍ으면 MULTILINE 추가 "
      ],
      "execution_count": 23,
      "outputs": [
        {
          "output_type": "stream",
          "name": "stdout",
          "text": [
            "***-****-**** Kim\n",
            "011-1234-5678 Lee\n",
            "016-1234-5678 Han\n",
            "\n"
          ]
        }
      ]
    }
  ]
}