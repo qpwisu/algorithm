{
  "nbformat": 4,
  "nbformat_minor": 0,
  "metadata": {
    "colab": {
      "name": "파이썬헷갈리는문법.ipynb",
      "provenance": [],
      "authorship_tag": "ABX9TyM9V2AQ6mvAN0o9jmEQusKR",
      "include_colab_link": true
    },
    "kernelspec": {
      "name": "python3",
      "display_name": "Python 3"
    },
    "language_info": {
      "name": "python"
    }
  },
  "cells": [
    {
      "cell_type": "markdown",
      "metadata": {
        "id": "view-in-github",
        "colab_type": "text"
      },
      "source": [
        "<a href=\"https://colab.research.google.com/github/qpwisu/algorithm/blob/master/%ED%8C%8C%EC%9D%B4%EC%8D%AC%ED%97%B7%EA%B0%88%EB%A6%AC%EB%8A%94%EB%AC%B8%EB%B2%95.ipynb\" target=\"_parent\"><img src=\"https://colab.research.google.com/assets/colab-badge.svg\" alt=\"Open In Colab\"/></a>"
      ]
    },
    {
      "cell_type": "markdown",
      "metadata": {
        "id": "tntiG7HSgfDq"
      },
      "source": [
        "1.람다식 정리 \n",
        "\n",
        "lambda는 함수를 한줄로 만들어준다 \n",
        "\n",
        "반환값 =lambda 입력값:반환값(수식)"
      ]
    },
    {
      "cell_type": "code",
      "metadata": {
        "colab": {
          "base_uri": "https://localhost:8080/"
        },
        "id": "oEM7APiqgNFH",
        "outputId": "8ec0b7d5-5cdd-4858-d3f7-cad49ef82f1f"
      },
      "source": [
        "def hap(x, y):\n",
        "  return x + y \n",
        "hap(10, 20) "
      ],
      "execution_count": 1,
      "outputs": [
        {
          "output_type": "execute_result",
          "data": {
            "text/plain": [
              "30"
            ]
          },
          "metadata": {},
          "execution_count": 1
        }
      ]
    },
    {
      "cell_type": "code",
      "metadata": {
        "colab": {
          "base_uri": "https://localhost:8080/"
        },
        "id": "AFHGunKkgyii",
        "outputId": "668f52a7-8ab7-4ff4-827d-9c7140876354"
      },
      "source": [
        "hap = lambda x,y:x+y\n",
        "print(hap(10,20))"
      ],
      "execution_count": 2,
      "outputs": [
        {
          "output_type": "stream",
          "name": "stdout",
          "text": [
            "200\n"
          ]
        }
      ]
    },
    {
      "cell_type": "markdown",
      "metadata": {
        "id": "Vh9Bqh6CoUU-"
      },
      "source": [
        "람다에서 if문을 쓸떄 \n",
        "\n",
        "lambda 입력값:(if반환값) if 조건식 else (else반환값)\n",
        "\n",
        "람다에 : 오른쪽에는 반환값이 들어가야 하기때문 if의 반환값이 앞으로 온다 \n",
        "\n",
        "람다에서는 \n",
        "else if를 이용할수없다 그래서 else절에 (if else)를 넣어서 사용해야한다\n"
      ]
    },
    {
      "cell_type": "code",
      "metadata": {
        "colab": {
          "base_uri": "https://localhost:8080/"
        },
        "id": "gzRa32vMnwV8",
        "outputId": "d79a6cc2-0ccf-4857-88fd-e11aa48b5cda"
      },
      "source": [
        "# 람다에 if 문 쓰기 \n",
        "def hap(x, y):\n",
        "  if x>y:\n",
        "    return x\n",
        "  else: \n",
        "    return y\n",
        "print(hap(10, 20) )\n",
        "\n",
        "a= lambda x,y:x if x>y else y\n",
        "print(a(10,20))\n",
        "\n",
        "# 람다에 if 문 쓰기 \n",
        "def hap(x, y):\n",
        "  if x>y:\n",
        "    return x\n",
        "  elif x==y: \n",
        "    return 0\n",
        "  else:\n",
        "    return y\n",
        "print(hap(10, 20) )\n",
        "#else if 사용 \n",
        "b= lambda x,y:x if x>y else (0 if x==y else y)\n",
        "print(b(20,20))\n",
        "\n"
      ],
      "execution_count": 20,
      "outputs": [
        {
          "output_type": "stream",
          "name": "stdout",
          "text": [
            "20\n",
            "20\n",
            "20\n",
            "0\n"
          ]
        }
      ]
    },
    {
      "cell_type": "markdown",
      "metadata": {
        "id": "eJq85vB5hrMp"
      },
      "source": [
        "2.map 정리 \n",
        "list(map(함수,입력값))\n",
        "map은 리스트의 요소들을 지정된 함수로 처리해주는 함수이다 \n",
        "\n",
        "map을 쓰고 list로 감싸줘야한다 \n",
        "\n",
        "함수에 lambda 많이 이용 \n",
        "\n"
      ]
    },
    {
      "cell_type": "code",
      "metadata": {
        "colab": {
          "base_uri": "https://localhost:8080/"
        },
        "id": "_vmWxeRhhqU1",
        "outputId": "9458f202-93ce-40a1-961d-140c0dde500b"
      },
      "source": [
        "# 함수대신 int를 넣어서 for문 필요없이 list를 한번에 형변환\n",
        "a = [1.2, 2.5, 3.7, 4.6]\n",
        "a = list(map(int, a))\n",
        "a"
      ],
      "execution_count": 4,
      "outputs": [
        {
          "output_type": "execute_result",
          "data": {
            "text/plain": [
              "[1, 2, 3, 4]"
            ]
          },
          "metadata": {},
          "execution_count": 4
        }
      ]
    },
    {
      "cell_type": "code",
      "metadata": {
        "colab": {
          "base_uri": "https://localhost:8080/"
        },
        "id": "OvrApJN1iaCh",
        "outputId": "b272fda0-6ef8-4354-9088-a4b4bedf7087"
      },
      "source": [
        "a= [1,3,5,7]\n",
        "def c(a):\n",
        "  return a*3\n",
        "d=list(map(c,a))\n",
        "print(d)\n",
        "\n",
        "e= list(map(lambda x:x*3,a))\n",
        "print(e)\n",
        "\n",
        "\n"
      ],
      "execution_count": 10,
      "outputs": [
        {
          "output_type": "stream",
          "name": "stdout",
          "text": [
            "[3, 9, 15, 21]\n",
            "[3, 9, 15, 21]\n"
          ]
        }
      ]
    },
    {
      "cell_type": "markdown",
      "metadata": {
        "id": "L6GoPkbzklpw"
      },
      "source": [
        "filter 함수 \n",
        "\n",
        "함수로 특정 조건에 걸러진 값을 리턴 \n",
        "\n",
        "list(filter(함수,입력값)) \n",
        "\n",
        "map과 다르게 함수에서 결과값이 True인지 False인지에 따라 해당요소를 거를지 결정 \n",
        "\n",
        "함수에 람다 많이 이용 \n"
      ]
    },
    {
      "cell_type": "code",
      "metadata": {
        "colab": {
          "base_uri": "https://localhost:8080/"
        },
        "id": "0D_tJTdYlG1R",
        "outputId": "4ef1dc52-2915-4486-90a2-b7823275f62d"
      },
      "source": [
        "target = [1, 2, 3, 4, 5, 6, 7, 8, 9, 10]\n",
        "\n",
        "def is_even(n):\n",
        "    return True if n % 2 == 0 else False\n",
        "\n",
        "result = filter(is_even, target)\n",
        "\n",
        "print(list(result))\n",
        "\n",
        "a= list(filter(lambda x:x%2==0,target))\n",
        "print(a)\n",
        "\n",
        "b= list(filter(lambda x:True if x%2==0 else False ,target))\n",
        "print(b)"
      ],
      "execution_count": 12,
      "outputs": [
        {
          "output_type": "stream",
          "name": "stdout",
          "text": [
            "[2, 4, 6, 8, 10]\n",
            "[2, 4, 6, 8, 10]\n",
            "[2, 4, 6, 8, 10]\n"
          ]
        }
      ]
    }
  ]
}