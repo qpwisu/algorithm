{
  "nbformat": 4,
  "nbformat_minor": 0,
  "metadata": {
    "colab": {
      "name": "codeup6001.ipynb",
      "provenance": [],
      "collapsed_sections": [],
      "authorship_tag": "ABX9TyNvCcSKaFoFxTKSw/OQiW2M",
      "include_colab_link": true
    },
    "kernelspec": {
      "name": "python3",
      "display_name": "Python 3"
    },
    "language_info": {
      "name": "python"
    }
  },
  "cells": [
    {
      "cell_type": "markdown",
      "metadata": {
        "id": "view-in-github",
        "colab_type": "text"
      },
      "source": [
        "<a href=\"https://colab.research.google.com/github/qpwisu/algorithm/blob/master/codeup6001_6050ipynb\" target=\"_parent\"><img src=\"https://colab.research.google.com/assets/colab-badge.svg\" alt=\"Open In Colab\"/></a>"
      ]
    },
    {
      "cell_type": "markdown",
      "metadata": {
        "id": "7ytDpSYWVBkw"
      },
      "source": [
        "6001 ~ 6010"
      ]
    },
    {
      "cell_type": "code",
      "metadata": {
        "id": "NLqGCVJOSeWE"
      },
      "source": [
        "\"Hello\""
      ],
      "execution_count": null,
      "outputs": []
    },
    {
      "cell_type": "code",
      "metadata": {
        "id": "EdhbAdLOUtx4"
      },
      "source": [
        "\"Hello World\""
      ],
      "execution_count": null,
      "outputs": []
    },
    {
      "cell_type": "code",
      "metadata": {
        "id": "szfvsnQmUsVi"
      },
      "source": [
        "print(\"Hello \\nWorld\")"
      ],
      "execution_count": null,
      "outputs": []
    },
    {
      "cell_type": "code",
      "metadata": {
        "id": "TpQkgwWtUsYJ"
      },
      "source": [
        "print(\"\\'Hello World\\'\")"
      ],
      "execution_count": null,
      "outputs": []
    },
    {
      "cell_type": "code",
      "metadata": {
        "id": "d1X4B2VKUlr7"
      },
      "source": [
        "print(\"\\\"Hello World\\\"\")"
      ],
      "execution_count": null,
      "outputs": []
    },
    {
      "cell_type": "code",
      "metadata": {
        "id": "jbpjCCkHVJ23"
      },
      "source": [
        "print(\"\\\"!@#$%^&*()\\'\")"
      ],
      "execution_count": null,
      "outputs": []
    },
    {
      "cell_type": "code",
      "metadata": {
        "id": "YdqWcvLpVhgQ"
      },
      "source": [
        "print(\"\\\"C:\\Download\\\\'hello\\'.py\\\"\")"
      ],
      "execution_count": null,
      "outputs": []
    },
    {
      "cell_type": "code",
      "metadata": {
        "id": "rSHiJ4lJV28v"
      },
      "source": [
        "print(\"print(\\\"Hello\\\\nWorld\\\")\")"
      ],
      "execution_count": null,
      "outputs": []
    },
    {
      "cell_type": "code",
      "metadata": {
        "id": "EkcJTd9CWN8Y"
      },
      "source": [
        "character1 = input() \n",
        "print(character1)"
      ],
      "execution_count": null,
      "outputs": []
    },
    {
      "cell_type": "code",
      "metadata": {
        "id": "CbdT7ANpWjm4"
      },
      "source": [
        "n = input() \n",
        "print(int(n))"
      ],
      "execution_count": null,
      "outputs": []
    },
    {
      "cell_type": "markdown",
      "metadata": {
        "id": "0rbee07GW31J"
      },
      "source": [
        "6011~6020"
      ]
    },
    {
      "cell_type": "code",
      "metadata": {
        "id": "6JqcOSfzWyVB"
      },
      "source": [
        "f= input()\n",
        "print(float(f))"
      ],
      "execution_count": null,
      "outputs": []
    },
    {
      "cell_type": "code",
      "metadata": {
        "id": "V30fNHKUXHk4"
      },
      "source": [
        "n1 = input()\n",
        "n2= input()\n",
        "print(n1+\"\\n\"+n2)"
      ],
      "execution_count": null,
      "outputs": []
    },
    {
      "cell_type": "code",
      "metadata": {
        "id": "C6KCHjSOXqdq"
      },
      "source": [
        "n1 = input()\n",
        "n2= input()\n",
        "print(n2+\"\\n\"+n1)"
      ],
      "execution_count": null,
      "outputs": []
    },
    {
      "cell_type": "code",
      "metadata": {
        "id": "-8GeQqNbXvkG"
      },
      "source": [
        "f= input()\n",
        "for i in range(3):print(f)"
      ],
      "execution_count": null,
      "outputs": []
    },
    {
      "cell_type": "code",
      "metadata": {
        "id": "BCT6-L_vX2pg"
      },
      "source": [
        "a,b = input().split(\" \")\n",
        "print(a)\n",
        "print(b)"
      ],
      "execution_count": null,
      "outputs": []
    },
    {
      "cell_type": "code",
      "metadata": {
        "id": "Z2JMdJGEYK5z"
      },
      "source": [
        "a,b = input().split(\" \")\n",
        "\n",
        "print(b)\n",
        "print(a)"
      ],
      "execution_count": null,
      "outputs": []
    },
    {
      "cell_type": "code",
      "metadata": {
        "id": "lBp-qOYRYVHp"
      },
      "source": [
        "s= input()\n",
        "for i in range(3): print(s,end=\" \")"
      ],
      "execution_count": null,
      "outputs": []
    },
    {
      "cell_type": "code",
      "metadata": {
        "id": "cwGC-wkmZCLx"
      },
      "source": [
        "hour,minute=input().split(\":\")\n",
        "print(hour,minute,sep=\":\")"
      ],
      "execution_count": null,
      "outputs": []
    },
    {
      "cell_type": "code",
      "metadata": {
        "id": "oCbFnmAfZehB"
      },
      "source": [
        "year,month,day = input().split(\".\")\n",
        "print(day,month,year,sep=\"-\")"
      ],
      "execution_count": null,
      "outputs": []
    },
    {
      "cell_type": "code",
      "metadata": {
        "colab": {
          "base_uri": "https://localhost:8080/"
        },
        "id": "ZWQgEN6naG-S",
        "outputId": "59e8d70a-fc18-441d-b5fc-3d3b3dc1bfb5"
      },
      "source": [
        "front,end= input().split(\"-\")\n",
        "print(front,end,sep=\"\")"
      ],
      "execution_count": 35,
      "outputs": [
        {
          "output_type": "stream",
          "text": [
            "3213-24\n",
            "321324\n"
          ],
          "name": "stdout"
        }
      ]
    },
    {
      "cell_type": "markdown",
      "metadata": {
        "id": "xLn-ECtOZ24S"
      },
      "source": [
        "6021~6030 "
      ]
    },
    {
      "cell_type": "code",
      "metadata": {
        "id": "EkQ_t5jRa0VK"
      },
      "source": [
        "s= input()\n",
        "for i in range(len(s)):\n",
        "  print(s[i])"
      ],
      "execution_count": null,
      "outputs": []
    },
    {
      "cell_type": "code",
      "metadata": {
        "colab": {
          "base_uri": "https://localhost:8080/"
        },
        "id": "eI3NARoCa6tQ",
        "outputId": "67c41261-7c8c-4714-d93d-b99f85653b70"
      },
      "source": [
        "s= input()\n",
        "print(s[0:2],s[2:4],s[4:6])\n"
      ],
      "execution_count": 36,
      "outputs": [
        {
          "output_type": "stream",
          "text": [
            "dsadsa\n",
            "ds ad sa\n"
          ],
          "name": "stdout"
        }
      ]
    },
    {
      "cell_type": "code",
      "metadata": {
        "colab": {
          "base_uri": "https://localhost:8080/"
        },
        "id": "eGfndlIVb2cL",
        "outputId": "9bbf4c95-7bab-480b-f53f-54788c046956"
      },
      "source": [
        "h,m,s= input().split(\":\")\n",
        "print(m)"
      ],
      "execution_count": 38,
      "outputs": [
        {
          "output_type": "stream",
          "text": [
            "17:23:57\n",
            "23\n"
          ],
          "name": "stdout"
        }
      ]
    },
    {
      "cell_type": "code",
      "metadata": {
        "id": "FPLIrQopcVPC"
      },
      "source": [
        "w1, w2 = input().split()\n",
        "s = w1 + w2\n",
        "print(s)"
      ],
      "execution_count": null,
      "outputs": []
    },
    {
      "cell_type": "code",
      "metadata": {
        "colab": {
          "base_uri": "https://localhost:8080/"
        },
        "id": "hmUw_yiWchkX",
        "outputId": "1123c1f1-3b4a-43ed-9279-07fb1cf579e9"
      },
      "source": [
        "a, b = input().split()\n",
        "c = int(a) + int(b)\n",
        "print(c)"
      ],
      "execution_count": 4,
      "outputs": [
        {
          "output_type": "stream",
          "text": [
            "3 4\n",
            "7\n"
          ],
          "name": "stdout"
        }
      ]
    },
    {
      "cell_type": "code",
      "metadata": {
        "colab": {
          "base_uri": "https://localhost:8080/"
        },
        "id": "MN7wQwFacvqS",
        "outputId": "c54396a3-4ac0-4167-8fd5-3ed0a6c0c53e"
      },
      "source": [
        "a= input()\n",
        "b= input()\n",
        "c = float(a) + float(b)\n",
        "print(c)"
      ],
      "execution_count": 3,
      "outputs": [
        {
          "output_type": "stream",
          "text": [
            "0.1\n",
            "0.2\n",
            "0.30000000000000004\n"
          ],
          "name": "stdout"
        }
      ]
    },
    {
      "cell_type": "code",
      "metadata": {
        "colab": {
          "base_uri": "https://localhost:8080/"
        },
        "id": "50gwt_8FdKs1",
        "outputId": "202c4c96-0324-4914-c632-937937f0ce92"
      },
      "source": [
        "a = input()\n",
        "n = int(a)           \n",
        "print('%x'% n) "
      ],
      "execution_count": 6,
      "outputs": [
        {
          "output_type": "stream",
          "text": [
            "255\n",
            "ff\n"
          ],
          "name": "stdout"
        }
      ]
    },
    {
      "cell_type": "code",
      "metadata": {
        "id": "E4jCPfNZdYxu"
      },
      "source": [
        "a = input()\n",
        "n = int(a)           \n",
        "print('%X'% n) "
      ],
      "execution_count": null,
      "outputs": []
    },
    {
      "cell_type": "code",
      "metadata": {
        "colab": {
          "base_uri": "https://localhost:8080/"
        },
        "id": "Pp7zi_VrdhOj",
        "outputId": "89d093e3-6759-4ceb-fa84-8087c9307ed8"
      },
      "source": [
        "a = input()\n",
        "n = int(a, 16) \n",
        "\n",
        "print('%o' % n)"
      ],
      "execution_count": 9,
      "outputs": [
        {
          "output_type": "stream",
          "text": [
            "225\n",
            "549\n",
            "1045\n"
          ],
          "name": "stdout"
        }
      ]
    },
    {
      "cell_type": "code",
      "metadata": {
        "colab": {
          "base_uri": "https://localhost:8080/"
        },
        "id": "vDjXQVFVd652",
        "outputId": "3467381e-fe20-491c-d95d-0d0342f32369"
      },
      "source": [
        "a= input() \n",
        "print(ord(a))"
      ],
      "execution_count": 11,
      "outputs": [
        {
          "output_type": "stream",
          "text": [
            "A\n",
            "65\n"
          ],
          "name": "stdout"
        }
      ]
    },
    {
      "cell_type": "code",
      "metadata": {
        "id": "-ZU1xMfKeQDb"
      },
      "source": [
        "c = int(input())\n",
        "print(chr(c))"
      ],
      "execution_count": null,
      "outputs": []
    },
    {
      "cell_type": "code",
      "metadata": {
        "colab": {
          "base_uri": "https://localhost:8080/"
        },
        "id": "YrSbBWHaeZkt",
        "outputId": "71b82298-facc-4dac-fe7d-a9b634b60631"
      },
      "source": [
        "n= int(input())\n",
        "print(-n)"
      ],
      "execution_count": 12,
      "outputs": [
        {
          "output_type": "stream",
          "text": [
            "1\n",
            "-1\n"
          ],
          "name": "stdout"
        }
      ]
    },
    {
      "cell_type": "code",
      "metadata": {
        "colab": {
          "base_uri": "https://localhost:8080/"
        },
        "id": "Z2jDwC5kex3C",
        "outputId": "68e3f300-779c-46c9-fbab-98c048df41a4"
      },
      "source": [
        "a= input()\n",
        "print(chr(ord(a)+1))"
      ],
      "execution_count": 19,
      "outputs": [
        {
          "output_type": "stream",
          "text": [
            "a\n",
            "b\n"
          ],
          "name": "stdout"
        }
      ]
    },
    {
      "cell_type": "code",
      "metadata": {
        "colab": {
          "base_uri": "https://localhost:8080/"
        },
        "id": "mmWLQle2fe7r",
        "outputId": "7bd3ea49-27f1-47d8-85c1-06cfca4dff5d"
      },
      "source": [
        "a,b = input().split(\" \")\n",
        "print(int(a)-int(b))"
      ],
      "execution_count": 21,
      "outputs": [
        {
          "output_type": "stream",
          "text": [
            "123 -123\n",
            "246\n"
          ],
          "name": "stdout"
        }
      ]
    },
    {
      "cell_type": "code",
      "metadata": {
        "colab": {
          "base_uri": "https://localhost:8080/"
        },
        "id": "pRnaMBMFfvbM",
        "outputId": "d17b132f-698b-42ed-a962-a53009000a06"
      },
      "source": [
        "a,b = input().split(\" \")\n",
        "print(float(a)*float(b))"
      ],
      "execution_count": 23,
      "outputs": [
        {
          "output_type": "stream",
          "text": [
            "1 2\n",
            "2.0\n"
          ],
          "name": "stdout"
        }
      ]
    },
    {
      "cell_type": "code",
      "metadata": {
        "id": "BJMe4TP3gN8f"
      },
      "source": [
        "a,b = input().split(\" \")\n",
        "for i in range(int(b)): print(a,end=\"\")"
      ],
      "execution_count": null,
      "outputs": []
    },
    {
      "cell_type": "code",
      "metadata": {
        "colab": {
          "base_uri": "https://localhost:8080/"
        },
        "id": "I_9IAGyBga4O",
        "outputId": "f6efd448-09bd-4eca-e16a-f103524f80a3"
      },
      "source": [
        "n= int(input())\n",
        "s= input()\n",
        "for i in range(n): print(s,end=\"\")"
      ],
      "execution_count": 22,
      "outputs": [
        {
          "output_type": "stream",
          "text": [
            "4\n",
            "i can ld\n",
            "i can ld i can ld i can ld i can ld "
          ],
          "name": "stdout"
        }
      ]
    },
    {
      "cell_type": "code",
      "metadata": {
        "id": "tcxyrDumg311"
      },
      "source": [
        "a,b = input().split(\" \")\n",
        "print(int(a)**int(b))"
      ],
      "execution_count": null,
      "outputs": []
    },
    {
      "cell_type": "code",
      "metadata": {
        "id": "N8PAwZyihEij"
      },
      "source": [
        "a,b = input().split(\" \")\n",
        "print(float(a)**float(b))"
      ],
      "execution_count": null,
      "outputs": []
    },
    {
      "cell_type": "code",
      "metadata": {
        "id": "fJuZu32FhM6L"
      },
      "source": [
        "a,b = input().split(\" \")\n",
        "print(int(a)//int(b))"
      ],
      "execution_count": null,
      "outputs": []
    },
    {
      "cell_type": "markdown",
      "metadata": {
        "id": "FqO-md3KjkKm"
      },
      "source": [
        "6041~6050 "
      ]
    },
    {
      "cell_type": "code",
      "metadata": {
        "colab": {
          "base_uri": "https://localhost:8080/"
        },
        "id": "K20OynQDjXQ8",
        "outputId": "1c9f3341-7208-430d-ccf8-4e83b68d9e6d"
      },
      "source": [
        "a,b = input().split(\" \")\n",
        "print(int(a)%int(b))"
      ],
      "execution_count": 26,
      "outputs": [
        {
          "output_type": "stream",
          "text": [
            "10 3\n",
            "3.3333333333333335\n"
          ],
          "name": "stdout"
        }
      ]
    },
    {
      "cell_type": "code",
      "metadata": {
        "colab": {
          "base_uri": "https://localhost:8080/"
        },
        "id": "Ah8OZABfjiL7",
        "outputId": "4942658d-6870-4289-ec9d-d9e673530ca9"
      },
      "source": [
        "a= float(input())\n",
        "print(round(a,2))"
      ],
      "execution_count": 27,
      "outputs": [
        {
          "output_type": "stream",
          "text": [
            "3.1424\n",
            "3.14\n"
          ],
          "name": "stdout"
        }
      ]
    },
    {
      "cell_type": "code",
      "metadata": {
        "colab": {
          "base_uri": "https://localhost:8080/"
        },
        "id": "y_2sba5Oj2PP",
        "outputId": "8a83128d-646d-43a2-a98d-98cbb508fac3"
      },
      "source": [
        "a,b = input().split(\" \")\n",
        "print(format(float(a)/float(b),\".3f\"))"
      ],
      "execution_count": 31,
      "outputs": [
        {
          "output_type": "stream",
          "text": [
            "10.0 3.0\n",
            "3.333333\n"
          ],
          "name": "stdout"
        }
      ]
    },
    {
      "cell_type": "code",
      "metadata": {
        "colab": {
          "base_uri": "https://localhost:8080/"
        },
        "id": "7MHv6jY3kzO1",
        "outputId": "6870b027-a215-4b07-f187-f1b3cfab0d63"
      },
      "source": [
        "a,b = input().split(\" \")\n",
        "a= int(a)\n",
        "b= int(b)\n",
        "print(a+b)\n",
        "print(a-b)\n",
        "print(a*b)\n",
        "print(a//b)\n",
        "print(a%b)\n",
        "print(format(a/b,\".2f\"))"
      ],
      "execution_count": 34,
      "outputs": [
        {
          "output_type": "stream",
          "text": [
            "10 3\n",
            "13\n",
            "7\n",
            "30\n",
            "3\n",
            "1\n",
            "3.33\n"
          ],
          "name": "stdout"
        }
      ]
    },
    {
      "cell_type": "code",
      "metadata": {
        "colab": {
          "base_uri": "https://localhost:8080/"
        },
        "id": "HvxJtNHPlkAs",
        "outputId": "df5bba5f-c5a0-4ac3-9329-c051e4557757"
      },
      "source": [
        "a,b,c = input().split(\" \")\n",
        "\n",
        "print(int(a)+int(b)+int(c),format((int(a)+int(b)+int(c))/3,\".2f\"))"
      ],
      "execution_count": 37,
      "outputs": [
        {
          "output_type": "stream",
          "text": [
            "1 2 3\n",
            "6 2.00\n"
          ],
          "name": "stdout"
        }
      ]
    },
    {
      "cell_type": "code",
      "metadata": {
        "id": "C1cAgCnfmLil"
      },
      "source": [
        "a= int(input())\n",
        "print(a*2)"
      ],
      "execution_count": null,
      "outputs": []
    },
    {
      "cell_type": "code",
      "metadata": {
        "colab": {
          "base_uri": "https://localhost:8080/"
        },
        "id": "q9SYqRpGmV0Z",
        "outputId": "a6a8ba67-6bbd-4cb0-d944-b5db84f99318"
      },
      "source": [
        "a,b = input().split(\" \")\n",
        "print(int(a)*(2**int(b)))"
      ],
      "execution_count": 40,
      "outputs": [
        {
          "output_type": "stream",
          "text": [
            "1 3\n",
            "8\n"
          ],
          "name": "stdout"
        }
      ]
    },
    {
      "cell_type": "code",
      "metadata": {
        "colab": {
          "base_uri": "https://localhost:8080/"
        },
        "id": "qllIxJp3mjl2",
        "outputId": "0a583c7d-2e62-44c2-ecbb-be5434a36228"
      },
      "source": [
        "a,b = input().split(\" \")\n",
        "a= int(a)\n",
        "b= int(b)\n",
        "if a<b : print(True) \n",
        "else: print(False)"
      ],
      "execution_count": 43,
      "outputs": [
        {
          "output_type": "stream",
          "text": [
            "1 3\n",
            "True\n"
          ],
          "name": "stdout"
        }
      ]
    },
    {
      "cell_type": "code",
      "metadata": {
        "id": "uuYKc-MBm9UX"
      },
      "source": [
        "a,b = input().split(\" \")\n",
        "a= int(a)\n",
        "b= int(b)\n",
        "if a==b : print(True) \n",
        "else: print(False)"
      ],
      "execution_count": null,
      "outputs": []
    },
    {
      "cell_type": "code",
      "metadata": {
        "id": "PaPpnEIznHDo"
      },
      "source": [
        "a,b = input().split(\" \")\n",
        "a= int(a)\n",
        "b= int(b)\n",
        "if a<=b : print(True) \n",
        "else: print(False)"
      ],
      "execution_count": null,
      "outputs": []
    }
  ]
}